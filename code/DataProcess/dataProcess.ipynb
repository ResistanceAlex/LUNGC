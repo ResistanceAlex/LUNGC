{
 "cells": [
  {
   "cell_type": "code",
   "execution_count": 1,
   "metadata": {},
   "outputs": [],
   "source": [
    "import os\n",
    "import shutil\n",
    "import random\n"
   ]
  },
  {
   "cell_type": "code",
   "execution_count": 2,
   "metadata": {},
   "outputs": [],
   "source": [
    "def create_new_folders(new_base_path, categories):\n",
    "    # 在新路径下创建 train, val, test 文件夹及其子文件夹\n",
    "    for category in categories:\n",
    "        os.makedirs(os.path.join(new_base_path, 'images', category), exist_ok=True)\n",
    "        os.makedirs(os.path.join(new_base_path, 'labels', category), exist_ok=True)"
   ]
  },
  {
   "cell_type": "code",
   "execution_count": 3,
   "metadata": {},
   "outputs": [],
   "source": [
    "def move_files(files, src_images_path, src_labels_path, dst_images_path, dst_labels_path):\n",
    "    # 移动文件到目标文件夹\n",
    "    for file in files:\n",
    "        image_file = os.path.join(src_images_path, file)\n",
    "        label_file = os.path.join(src_labels_path, file.replace('.jpg', '.txt'))\n",
    "\n",
    "        if os.path.exists(image_file) and os.path.exists(label_file):\n",
    "            shutil.copy(image_file, os.path.join(dst_images_path, file))\n",
    "            shutil.copy(label_file, os.path.join(dst_labels_path, file.replace('.jpg', '.txt')))"
   ]
  },
  {
   "cell_type": "code",
   "execution_count": 4,
   "metadata": {},
   "outputs": [],
   "source": [
    "def split_dataset(src_base_path, new_base_path, train_ratio=0.7, val_ratio=0.1, test_ratio=0.2):\n",
    "    src_images_path = os.path.join(src_base_path, 'images')\n",
    "    src_labels_path = os.path.join(src_base_path, 'labels')\n",
    "\n",
    "    # 列出所有图像文件\n",
    "    files = [f for f in os.listdir(src_images_path) if f.endswith('.jpg')]\n",
    "\n",
    "    # 打乱文件顺序\n",
    "    random.shuffle(files)\n",
    "\n",
    "    # 划分文件\n",
    "    total_files = len(files)\n",
    "    train_end = int(total_files * train_ratio)\n",
    "    val_end = train_end + int(total_files * val_ratio)\n",
    "\n",
    "    train_files = files[:train_end]\n",
    "    val_files = files[train_end:val_end]\n",
    "    test_files = files[val_end:]\n",
    "\n",
    "    # 在新路径下创建 train, val, test 文件夹及其子文件夹\n",
    "    create_new_folders(new_base_path, ['train', 'val', 'test'])\n",
    "\n",
    "    # 将文件复制到相应的文件夹\n",
    "    move_files(train_files, src_images_path, src_labels_path, os.path.join(new_base_path, 'images', 'train'), os.path.join(new_base_path, 'labels', 'train'))\n",
    "    move_files(val_files, src_images_path, src_labels_path, os.path.join(new_base_path, 'images', 'val'), os.path.join(new_base_path, 'labels', 'val'))\n",
    "    move_files(test_files, src_images_path, src_labels_path, os.path.join(new_base_path, 'images', 'test'), os.path.join(new_base_path, 'labels', 'test'))"
   ]
  },
  {
   "cell_type": "code",
   "execution_count": 6,
   "metadata": {},
   "outputs": [],
   "source": [
    "\n",
    "# 设置原数据集的基础路径和新的数据集基础路径\n",
    "src_base_path = 'E:\\pyDLW\\LUNGC\\dataset\\LIDCsix'        # 原数据集路径\n",
    "new_base_path = 'E:\\pyDLW\\LUNGC\\dataset'    # 新的数据集路径\n",
    "\n",
    "# 划分数据集并移动到新的文件夹中\n",
    "split_dataset(src_base_path, new_base_path)"
   ]
  }
 ],
 "metadata": {
  "kernelspec": {
   "display_name": "Python 3",
   "language": "python",
   "name": "python3"
  },
  "language_info": {
   "codemirror_mode": {
    "name": "ipython",
    "version": 3
   },
   "file_extension": ".py",
   "mimetype": "text/x-python",
   "name": "python",
   "nbconvert_exporter": "python",
   "pygments_lexer": "ipython3",
   "version": "3.11.4"
  },
  "orig_nbformat": 4
 },
 "nbformat": 4,
 "nbformat_minor": 2
}
